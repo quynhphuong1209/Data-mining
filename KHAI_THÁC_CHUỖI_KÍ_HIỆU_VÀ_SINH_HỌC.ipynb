{
  "nbformat": 4,
  "nbformat_minor": 0,
  "metadata": {
    "colab": {
      "provenance": []
    },
    "kernelspec": {
      "name": "python3",
      "display_name": "Python 3"
    },
    "language_info": {
      "name": "python"
    }
  },
  "cells": [
    {
      "cell_type": "code",
      "source": [
        "!pip install hmmlearn\n"
      ],
      "metadata": {
        "id": "infDdSQZB7mv",
        "outputId": "54a6f80d-1ab0-4c9e-b672-f7d06871e31c",
        "colab": {
          "base_uri": "https://localhost:8080/"
        }
      },
      "execution_count": 6,
      "outputs": [
        {
          "output_type": "stream",
          "name": "stdout",
          "text": [
            "Requirement already satisfied: hmmlearn in /usr/local/lib/python3.10/dist-packages (0.3.3)\n",
            "Requirement already satisfied: numpy>=1.10 in /usr/local/lib/python3.10/dist-packages (from hmmlearn) (1.26.4)\n",
            "Requirement already satisfied: scikit-learn!=0.22.0,>=0.16 in /usr/local/lib/python3.10/dist-packages (from hmmlearn) (1.6.0)\n",
            "Requirement already satisfied: scipy>=0.19 in /usr/local/lib/python3.10/dist-packages (from hmmlearn) (1.13.1)\n",
            "Requirement already satisfied: joblib>=1.2.0 in /usr/local/lib/python3.10/dist-packages (from scikit-learn!=0.22.0,>=0.16->hmmlearn) (1.4.2)\n",
            "Requirement already satisfied: threadpoolctl>=3.1.0 in /usr/local/lib/python3.10/dist-packages (from scikit-learn!=0.22.0,>=0.16->hmmlearn) (3.5.0)\n"
          ]
        }
      ]
    },
    {
      "cell_type": "markdown",
      "source": [
        "Ví dụ về việc sử dụng Hidden Markov Models (HMM) để phân tích chuỗi DNA."
      ],
      "metadata": {
        "id": "6XrXJn_nBGvU"
      }
    },
    {
      "cell_type": "code",
      "execution_count": null,
      "metadata": {
        "colab": {
          "base_uri": "https://localhost:8080/"
        },
        "id": "58MPdyZuA8Hg",
        "outputId": "48021b93-dd09-4e90-8a64-5adee4428b53"
      },
      "outputs": [
        {
          "output_type": "stream",
          "name": "stderr",
          "text": [
            "WARNING:hmmlearn.hmm:MultinomialHMM has undergone major changes. The previous version was implementing a CategoricalHMM (a special case of MultinomialHMM). This new implementation follows the standard definition for a Multinomial distribution (e.g. as in https://en.wikipedia.org/wiki/Multinomial_distribution). See these issues for details:\n",
            "https://github.com/hmmlearn/hmmlearn/issues/335\n",
            "https://github.com/hmmlearn/hmmlearn/issues/340\n"
          ]
        },
        {
          "output_type": "stream",
          "name": "stdout",
          "text": [
            "Chuỗi trạng thái ẩn dự đoán: [1 0 0 0 0 0 0 0 0 0]\n"
          ]
        }
      ],
      "source": [
        "from hmmlearn.hmm import MultinomialHMM\n",
        "import numpy as np\n",
        "\n",
        "# Chuỗi DNA giả lập (A, T, G, C)\n",
        "sequence = ['A', 'C', 'G', 'T', 'A', 'A', 'T', 'C', 'G', 'T']\n",
        "\n",
        "# Đặt chỉ mục cho các ký tự trong chuỗi DNA\n",
        "unique_chars = ['A', 'T', 'G', 'C']\n",
        "char_to_index = {char: idx for idx, char in enumerate(unique_chars)}\n",
        "indexed_sequence = [char_to_index[char] for char in sequence]\n",
        "\n",
        "# Chuyển đổi chuỗi ký tự thành dạng ma trận (mỗi ký tự là một số nguyên)\n",
        "X = np.array(indexed_sequence).reshape(-1, 1)\n",
        "\n",
        "# Khởi tạo mô hình MultinomialHMM\n",
        "model = MultinomialHMM(n_components=2, random_state=42)  # Giả sử có 2 trạng thái ẩn\n",
        "\n",
        "# Huấn luyện mô hình với dữ liệu chuỗi ký tự\n",
        "model.fit(X)\n",
        "\n",
        "# Dự đoán chuỗi trạng thái ẩn\n",
        "hidden_states = model.predict(X)\n",
        "\n",
        "# Hiển thị kết quả\n",
        "print(\"Chuỗi trạng thái ẩn dự đoán:\", hidden_states)\n"
      ]
    }
  ]
}