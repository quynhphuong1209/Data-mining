{
  "nbformat": 4,
  "nbformat_minor": 0,
  "metadata": {
    "colab": {
      "provenance": []
    },
    "kernelspec": {
      "name": "python3",
      "display_name": "Python 3"
    },
    "language_info": {
      "name": "python"
    }
  },
  "cells": [
    {
      "cell_type": "code",
      "execution_count": null,
      "metadata": {
        "id": "I64X7Z1Iw6T3"
      },
      "outputs": [],
      "source": [
        "from google.colab import drive\n",
        "drive.mount('/content/drive')\n",
        "\n",
        "import os\n",
        "import pandas as pd\n",
        "import numpy as np\n",
        "import matplotlib.pyplot as plt\n",
        "import seaborn as sns\n",
        "\n",
        "os.chdir('/content/drive/My Drive/Datamining/Exercises')\n",
        "df = pd.read_csv('Mall_Customers.csv')\n",
        "df.head()\n",
        "\n",
        "x=df.iloc[:,[3,4]].values\n",
        "from sklearn.cluster import KMeans\n",
        "kmeans=KMeans(n_clusters=5,init='k-means++',random_state=0)\n",
        "y_kmeans=kmeans.fit_predict(x)\n",
        "\n",
        "plt.scatter(x[y_kmeans==0,0],x[y_kmeans==0,1],s=100,c='red',label='cluster1')\n",
        "plt.scatter(x[y_kmeans==1,0],x[y_kmeans==1,1],s=100,c='blue',label='cluster2')\n",
        "plt.scatter(x[y_kmeans==2,0],x[y_kmeans==2,1],s=100,c='green',label='cluster3')\n",
        "plt.scatter(x[y_kmeans==3,0],x[y_kmeans==3,1],s=100,c='cyan',label='cluster4')\n",
        "plt.scatter(x[y_kmeans==4,0],x[y_kmeans==4,1],s=100,c='magenta',label='cluster5')\n",
        "\n",
        "plt.scatter(kmeans.cluster_centers_[:,0],kmeans.cluster_centers_[:,1],s=300,c='yellow',label='centroids')\n",
        "plt.title('clusters of clients')\n",
        "plt.xlabel('annual income')\n",
        "plt.ylabel('spending score(1-100)')\n",
        "plt.legend()\n",
        "plt.show()"
      ]
    }
  ]
}